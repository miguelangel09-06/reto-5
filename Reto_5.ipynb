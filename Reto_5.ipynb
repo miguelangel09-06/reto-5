{
  "cells": [
    {
      "cell_type": "code",
      "execution_count": 3,
      "metadata": {
        "colab": {
          "base_uri": "https://localhost:8080/"
        },
        "id": "RY2mSUnEOK5C",
        "outputId": "6704d029-fce7-4996-aa49-3f27f9171d29"
      },
      "outputs": [
        {
          "output_type": "stream",
          "name": "stdout",
          "text": [
            "Por favor ingrese los datos solicitados en cm=\n",
            "Ingrese el radio de la esfera=5\n",
            "Ingrese el radio de la circunferencia del cono=1\n",
            "Ingrese la altura del cono=10\n",
            "El volumen de la esfera es= 523.5987755982989 cm^3\n",
            "El area superficial de la esfera es= 314.1592653589793 cm^2\n",
            "El volumen del cono es= 10.471975511965976 cm^3\n",
            "El area superficial del cono es= 34.714208074394335 cm^2\n",
            "Al sumar las áreas queda= 348.87347343337365 cm^2\n",
            "Al sumar los volumenes queda= 534.0707511102648 cm^3\n"
          ]
        }
      ],
      "source": [
        "########################################################################\n",
        "#                               RETO 5                                 #\n",
        "########################################################################\n",
        "\n",
        "\n",
        "#Punto 1\n",
        "\n",
        "#importamos esto por que vamos a usar operaciones matematicas\n",
        "import math\n",
        "math.pi#esto para el número pi\n",
        "\n",
        "\n",
        "#funcion para determinar el volumen de la esfera\n",
        "def volumen_e(radio_e:float) -> float:\n",
        "  return (4/3)*math.pi*radio_e**3\n",
        "\n",
        "#funcion para determinar el area superficial de la esfera\n",
        "def area_superficial_e(radio_e:float) -> float:\n",
        "  return (4)*math.pi*radio_e**2\n",
        "\n",
        "#funcion para determinar el volumen del cono\n",
        "def volumen_c(radio_c:float,altura_c:float) -> float:\n",
        "  return (1/3)*math.pi*radio_c**2*altura_c\n",
        "\n",
        "#funcion para determinar el area superficial del cono\n",
        "def area_superficial_c(radio_c:float) -> float:\n",
        "# la \"l\" es el teorema de pitagoras, es necesario para completar la formula del area superficial\n",
        "   l:float= math.sqrt(radio_c**2 + altura_c**2)\n",
        "   return math.pi*radio_c**2+(math.pi*radio_c*l)\n",
        "\n",
        "#sumamos todo\n",
        "def suma_areas(area_superficial_e:float,area_superficial_c:float) -> float:\n",
        "  return area_superficial_e+area_superficial_c\n",
        "def suma_volumen(volumen_e:float,volumen_c:float) -> float:\n",
        "    return volumen_e+volumen_c\n",
        "if __name__ == \"__main__\":\n",
        "  # Seccion para pedir los datos\n",
        " print(\"Por favor ingrese los datos solicitados en cm=\")\n",
        "radio_e=float(input(\"Ingrese el radio de la esfera=\"))\n",
        "radio_c=float(input(\"Ingrese el radio de la circunferencia del cono=\"))\n",
        "altura_c=float(input(\"Ingrese la altura del cono=\"))\n",
        "#Seccion de impresiones\n",
        "print(\"El volumen de la esfera es=\",volumen_e(radio_e),\"cm^3\")\n",
        "print(\"El area superficial de la esfera es=\",area_superficial_e(radio_e),\"cm^2\")\n",
        "print(\"El volumen del cono es=\",volumen_c(radio_c,altura_c),\"cm^3\")\n",
        "print(\"El area superficial del cono es=\",area_superficial_c(radio_c),\"cm^2\")\n",
        "print(\"Al sumar las áreas queda=\",suma_areas(area_superficial_e(radio_e),area_superficial_c(radio_c)),\"cm^2\")\n",
        "print(\"Al sumar los volumenes queda=\",suma_volumen(volumen_e(radio_e),volumen_c(radio_c,altura_c)),\"cm^3\")\n",
        "\n",
        "\n"
      ]
    },
    {
      "cell_type": "code",
      "execution_count": 4,
      "metadata": {
        "colab": {
          "base_uri": "https://localhost:8080/"
        },
        "id": "OCsWbLMcUiUs",
        "outputId": "47c12086-4141-404c-8880-d18e0d147f7a"
      },
      "outputs": [
        {
          "output_type": "stream",
          "name": "stdout",
          "text": [
            "Por favor ingrese los datos solicitados en cm=\n",
            "Ingrese la medida de la base del rectangulo=10\n",
            "Ingrese la medida de la altura del rectangulo=3\n",
            "Ingrese la medida del radio de la circunferencia=2\n",
            "El area del rectangulo es= 30.0 cm^2\n",
            "El perimetro del rectangulo es= 26.0 cm\n",
            "El area de los 2 circulos es= 25.132741228718345 cm^2\n",
            "El perimetro de los 2 circulos es= 25.132741228718345 cm\n",
            "El area total del rectangulo y las dos circunferencias es= 55.132741228718345 cm^2\n",
            "El perimetro total del rectangulo y las dos circunferencias es= 51.132741228718345 cm\n"
          ]
        }
      ],
      "source": [
        "# Punto 2\n",
        "import math\n",
        "math.pi#esto para el número pi\n",
        "\n",
        "#funcion para determinar el area y perimetro del rectangulo\n",
        "def area_rectangulo(base_del_rectangulo:float,altura_del_rectangulo) -> float:\n",
        "  return base_del_rectangulo*altura_del_rectangulo\n",
        "def perimetro_rectangulo(base_del_rectangulo:float,altura_del_rectangulo) -> float:\n",
        "  return 2*(base_del_rectangulo+altura_del_rectangulo)\n",
        "#funcion para determinar area del circulo\n",
        "def area_de_circulos(radio_del_circulo) -> float:\n",
        "  return (math.pi*radio_del_circulo**2)*2\n",
        "#funcion para determinar perimetro del circulo\n",
        "def perimetro_circulos(radio_del_circulo) -> float:\n",
        "  return (2*math.pi*radio_del_circulo)*2\n",
        "\n",
        "\n",
        "\n",
        "if __name__ == \"__main__\":\n",
        "  # Seccion para pedir los datos y determinar las variables\n",
        " print(\"Por favor ingrese los datos solicitados en cm=\")\n",
        "base_del_rectangulo=float(input(\"Ingrese la medida de la base del rectangulo=\"))\n",
        "altura_del_rectangulo=float(input(\"Ingrese la medida de la altura del rectangulo=\"))\n",
        "radio_del_circulo=float(input(\"Ingrese la medida del radio de la circunferencia=\"))\n",
        "#Suma de datos para determinar los totales\n",
        "suma_areas= area_de_circulos(radio_del_circulo) + area_rectangulo(base_del_rectangulo,altura_del_rectangulo)\n",
        "suma_perimetro=perimetro_circulos(radio_del_circulo)+perimetro_rectangulo(base_del_rectangulo,altura_del_rectangulo)\n",
        "#Imprimo todo\n",
        "print(\"El area del rectangulo es=\",area_rectangulo(base_del_rectangulo,altura_del_rectangulo),\"cm^2\")\n",
        "print(\"El perimetro del rectangulo es=\",perimetro_rectangulo(base_del_rectangulo,altura_del_rectangulo),\"cm\")\n",
        "print(\"El area de los 2 circulos es=\",area_de_circulos(radio_del_circulo),\"cm^2\")\n",
        "print(\"El perimetro de los 2 circulos es=\",perimetro_circulos(radio_del_circulo),\"cm\")\n",
        "print(\"El area total del rectangulo y las dos circunferencias es=\",suma_areas,\"cm^2\")\n",
        "print(\"El perimetro total del rectangulo y las dos circunferencias es=\",suma_perimetro,\"cm\")\n",
        "\n",
        "\n"
      ]
    },
    {
      "cell_type": "code",
      "source": [
        "#Punto 3\n",
        "#Escribo una funcion que englobe los 3 datos que se piden\n",
        "def carne_de_aves(n_gallinas:float,m_galos:float,k_pollitos:float) -> float:\n",
        "  #Aqui se multiplica el peso de cada ave y se suman esos valores\n",
        "  return (n_gallinas*6)+(m_galos*7)+(k_pollitos*1)\n",
        "#De aqui para abajo se imprime todo lo necesario\n",
        "print(\"¡HOLA!\")\n",
        "print(\"Por favor ingresa los datos solicitados del problema=\")\n",
        "#Se piden los datos\n",
        "n_gallinas=float(input(\"Por favor ingrese la cantidad de gallinas=\"))\n",
        "m_galos=float(input(\"Por favor ingrese la cantidad de gallos=\"))\n",
        "k_pollitos=float(input(\"Por favor ingrese la cantidad de pollitos=\"))\n",
        "#Se imprimen los resultados finales\n",
        "print(\"La cantidad de carne de ave es=\",carne_de_aves(n_gallinas,m_galos,k_pollitos),\"kg\")"
      ],
      "metadata": {
        "colab": {
          "base_uri": "https://localhost:8080/"
        },
        "id": "QUuyqLb5Ldrt",
        "outputId": "88edbe1c-ecaa-4bd6-b7d9-9547df4fca2a"
      },
      "execution_count": 10,
      "outputs": [
        {
          "output_type": "stream",
          "name": "stdout",
          "text": [
            "¡HOLA!\n",
            "Por favor ingresa los datos solicitados del problema=\n",
            "Por favor ingrese la cantidad de gallinas=120\n",
            "Por favor ingrese la cantidad de gallos=135\n",
            "Por favor ingrese la cantidad de pollitos=200\n",
            "La cantidad de carne de aves en kilos es= 1865.0 kg\n"
          ]
        }
      ]
    },
    {
      "cell_type": "code",
      "source": [
        "#punto 4\n",
        "#Siguiendo la formula del interes conpuesto que es = Capital final = C x (1+Ti) ^t necesito 3 datos, el capital(c), el interes compuesto(Ti) ye le tiempo en meses (t)\n",
        "\n",
        "def interes_compuesto(c:float,Ti:float,t:int) -> float:\n",
        "  Ti=Ti/100\n",
        "  return  c * (1 + Ti) ** t\n",
        "\n",
        "\n",
        "if __name__ == \"__main__\":\n",
        "    # Sección para pedir los datos\n",
        "    print(\"Por favor ingrese los datos del préstamo:\")\n",
        "    c = float(input(\"Ingrese el monto del préstamo (capital inicial) en $: \"))\n",
        "    Ti = float(input(\"Ingrese la tasa de interés mensual en %: \"))\n",
        "    t = int(input(\"Ingrese el número de meses: \"))\n",
        "    #Le asigno el valor de la funcion del principio a esta variable=valor_prestamo para al final imprimirla\n",
        "    valor_prestamo=interes_compuesto(c,Ti,t)\n",
        "\n",
        "\n",
        "    # Sección de impresiones, aqui uso .2f para que me muestre solo 2 decimales\n",
        "    print(f\"El valor del préstamo después de {t} meses es: ${valor_prestamo:.2f} \")"
      ],
      "metadata": {
        "colab": {
          "base_uri": "https://localhost:8080/"
        },
        "id": "nO5CJOz6Pffv",
        "outputId": "7dbb0d61-1baf-4f0e-efe3-5a0984704a5b"
      },
      "execution_count": 21,
      "outputs": [
        {
          "output_type": "stream",
          "name": "stdout",
          "text": [
            "Por favor ingrese los datos del préstamo:\n",
            "Ingrese el monto del préstamo (capital inicial) en $: 1500000\n",
            "Ingrese la tasa de interés mensual en %: 5\n",
            "Ingrese el número de meses: 14\n",
            "El valor del préstamo después de 14 meses es: $2969897.40 \n"
          ]
        }
      ]
    },
    {
      "cell_type": "code",
      "source": [
        "#Punto 5\n",
        "\n",
        "import math\n",
        "#Creo todas las funciones=\n",
        "#Esta para el promedio aritmetico\n",
        "def promedio(numero_a:float,numero_b:float,numero_c:float,numero_d:float,numero_e:float) -> float:\n",
        "  return (numero_a+numero_b+numero_c+numero_d+numero_e)/5\n",
        "#Para el promedio multiplicativo\n",
        "def promedio_muliplicativo(numero_a:float,numero_b:float,numero_c:float,numero_d:float,numero_e:float) -> float:\n",
        "  return (numero_a*numero_b*numero_c*numero_d*numero_e)**(1/5)\n",
        "#Para la potencia solicitada\n",
        "def potencia(numero_max,numero_min) -> float:\n",
        "  return numero_max**numero_min\n",
        "#Para la raiz cubica\n",
        "def raiz_cubica(numero_min) -> float:\n",
        "  return numero_min**(1/3)\n",
        "if __name__ == \"__main__\":\n",
        "\n",
        "#Pido los 5 numeros\n",
        " print(\"Por favor ingrese 5 numeros=\")\n",
        "numero_a=float(input(\"Ingrese el primer numero=\"))\n",
        "numero_b=float(input(\"Ingrese el segundo numero=\"))\n",
        "numero_c=float(input(\"Ingrese el tercer numero=\"))\n",
        "numero_d=float(input(\"Ingrese el cuarto numero=\"))\n",
        "numero_e=float(input(\"Ingrese el quinto numero=\"))\n",
        "#Creo una listapara facilitar la lectura de los mismos\n",
        "numeros=[numero_a,numero_b,numero_c,numero_d,numero_e]\n",
        "#Usando max y min determino el numero mayor y menor para que sea leido en las funciones respectivamente\n",
        "numero_max=max(numeros)\n",
        "numero_min=min(numeros)\n",
        "#Imprimo todos los resultados citando cada funcion\n",
        "print(\"El promedio aritmetico es=\",promedio(numero_a,numero_b,numero_c,numero_d,numero_e))\n",
        "print(\"El promedio multiplicativo es=\",promedio_muliplicativo(numero_a,numero_b,numero_c,numero_d,numero_e))\n",
        "print(\"La potencia del numero mayor al numero menor es=\",potencia(numero_max,numero_min))\n",
        "print(\"La raiz cubica del numero menor es=\",raiz_cubica(numero_min))\n"
      ],
      "metadata": {
        "colab": {
          "base_uri": "https://localhost:8080/"
        },
        "id": "fmZc0k89hwQi",
        "outputId": "0eacd131-2760-47fd-e3fc-9b502ac22a6a"
      },
      "execution_count": 1,
      "outputs": [
        {
          "output_type": "stream",
          "name": "stdout",
          "text": [
            "Por favor ingrese 5 numeros=\n",
            "Ingrese el primer numero=8\n",
            "Ingrese el segundo numero=12\n",
            "Ingrese el tercer numero=3\n",
            "Ingrese el cuarto numero=5\n",
            "Ingrese el quinto numero=2\n",
            "El promedio aritmetico es= 6.0\n",
            "El promedio multiplicativo es= 4.919018971698727\n",
            "La potencia del numero mayor al numero menor es= 144.0\n",
            "La raiz cubica del numero menor es= 1.2599210498948732\n"
          ]
        }
      ]
    },
    {
      "cell_type": "markdown",
      "source": [
        "\n",
        "-Consultar qué es y cómo funciona pip en python.\n",
        "\n",
        "Rta= El pip en python es el administrador oficial de paquetes y bibliotecas , permite instalarlos y en general sirve para gestionar estos paquetes externos,funciona utilizando comandos, el los descarga y nosotros vamos haciendo uso de ellos a lo largo del codigo.\n",
        "\n",
        "\n",
        "-Hacer un listado de módulos populares para python que se puedan instalar com pip y consultar cómo instalarlos.\n",
        "\n",
        "1. NumPy=\n",
        " Proporciona soporte para cálculos numéricos y operaciones con arrays multidimensionales.\n",
        "  Instalación:\n",
        "\n",
        "  pip install numpy\n",
        "\n",
        "2. Pandas=\n",
        " Facilita la manipulación y análisis de datos estructurados (DataFrames).\n",
        " Instalación:\n",
        "\n",
        "  pip install pandas\n",
        "\n",
        "3. Matplotlib=\n",
        " Permite crear gráficos y visualizaciones 2D.\n",
        " Instalación:\n",
        "  \n",
        " pip install matplotlib\n",
        "4. Scikit-learn=\n",
        " Biblioteca para aprendizaje automático (machine learning).\n",
        "  Instalación:\n",
        "\n",
        "  pip install scikit-learn\n",
        "5. Flask=\n",
        " Un framework minimalista para desarrollar aplicaciones web.\n",
        "  Instalación:\n",
        "\n",
        "  pip install flask\n",
        "6. Django=\n",
        " Un framework web completo para desarrollo rápido de aplicaciones web.\n",
        "  Instalación:\n",
        "\n",
        "  pip install django\n",
        "7. Requests=\n",
        "  Simplifica las solicitudes HTTP (GET, POST, etc.).\n",
        "  Instalación:\n",
        "  \n",
        "  pip install requests\n",
        "8. Beautiful Soup=\n",
        "   Extrae datos de documentos HTML y XML.\n",
        "  Instalación:\n",
        "\n",
        "  pip install beautifulsoup4\n",
        "9. PyTorch=\n",
        "  Biblioteca de aprendizaje profundo (deep learning).\n",
        " Instalación:\n",
        "\n",
        "  pip install torch torchvision\n",
        "10. TensorFlow=\n",
        "   Otro popular framework de aprendizaje profundo.\n",
        "  Instalación:\n",
        "\n",
        "   pip install tensorflow\n",
        "11. OpenCV=\n",
        "   Procesamiento de imágenes y visión por computadora.\n",
        "   Instalación:\n",
        "\n",
        "  pip install opencv-python\n",
        "12. Pillow=\n",
        "   Manipulación y edición de imágenes.\n",
        "   Instalación:\n",
        "\n",
        "  pip install pillow\n",
        "13. PyGame=\n",
        "  Crea juegos en Python con gráficos y sonido.\n",
        "  Instalación:\n",
        "\n",
        "   pip install pygame\n",
        "14. SQLAlchemy=  \n",
        "  Manejo de bases de datos con mapeo objeto-relacional (ORM).\n",
        "  Instalación:\n",
        "\n",
        "  pip install sqlalchemy\n",
        "15. PyTest=\n",
        "   Herramienta para pruebas automatizadas.\n",
        "   Instalación:\n",
        "\n",
        "   pip install pytest\n",
        "16. SciPy=\n",
        "  Funciones avanzadas para cálculos científicos y matemáticos.\n",
        "  Instalación:\n",
        "\n",
        "  pip install scipy\n",
        "17. PyInstaller=\n",
        "   Convierte scripts Python en ejecutables independientes.\n",
        "  Instalación:\n",
        "\n",
        "  pip install pyinstaller\n",
        "18. Selenium\n",
        "   Automatiza navegadores web para pruebas o scraping.\n",
        "   Instalación:\n",
        "\n",
        "  pip install selenium\n",
        "19. FastAPI\n",
        "   Framework moderno y rápido para construir APIs.\n",
        "  Instalación:\n",
        "\n",
        "   pip install fastapi uvicorn\n",
        "20. Cryptography\n",
        "   Proporciona herramientas para criptografía y seguridad.\n",
        "  Instalación:\n",
        "\n",
        "   pip install cryptography\n"
      ],
      "metadata": {
        "id": "A-cz8pJ94lJP"
      }
    }
  ],
  "metadata": {
    "colab": {
      "provenance": []
    },
    "kernelspec": {
      "display_name": "Python 3",
      "name": "python3"
    },
    "language_info": {
      "name": "python"
    }
  },
  "nbformat": 4,
  "nbformat_minor": 0
}